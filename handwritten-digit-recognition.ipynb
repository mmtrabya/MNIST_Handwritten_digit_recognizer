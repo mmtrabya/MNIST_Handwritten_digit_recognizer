{
 "cells": [
  {
   "cell_type": "markdown",
   "id": "ebceb359",
   "metadata": {
    "papermill": {
     "duration": 0.007602,
     "end_time": "2023-10-24T20:06:11.458913",
     "exception": false,
     "start_time": "2023-10-24T20:06:11.451311",
     "status": "completed"
    },
    "tags": []
   },
   "source": [
    "# **Import Libraries**"
   ]
  },
  {
   "cell_type": "code",
   "execution_count": 1,
   "id": "967447a6",
   "metadata": {
    "_cell_guid": "b1076dfc-b9ad-4769-8c92-a6c4dae69d19",
    "_uuid": "8f2839f25d086af736a60e9eeb907d3b93b6e0e5",
    "execution": {
     "iopub.execute_input": "2023-10-24T20:06:11.474848Z",
     "iopub.status.busy": "2023-10-24T20:06:11.474429Z",
     "iopub.status.idle": "2023-10-24T20:06:12.151384Z",
     "shell.execute_reply": "2023-10-24T20:06:12.150459Z"
    },
    "papermill": {
     "duration": 0.687688,
     "end_time": "2023-10-24T20:06:12.153729",
     "exception": false,
     "start_time": "2023-10-24T20:06:11.466041",
     "status": "completed"
    },
    "tags": []
   },
   "outputs": [
    {
     "name": "stdout",
     "output_type": "stream",
     "text": [
      "/kaggle/input/digit-recognizer/sample_submission.csv\n",
      "/kaggle/input/digit-recognizer/train.csv\n",
      "/kaggle/input/digit-recognizer/test.csv\n"
     ]
    }
   ],
   "source": [
    "# This Python 3 environment comes with many helpful analytics libraries installed\n",
    "# It is defined by the kaggle/python Docker image: https://github.com/kaggle/docker-python\n",
    "# For example, here's several helpful packages to load\n",
    "\n",
    "import numpy as np # linear algebra\n",
    "import pandas as pd # data processing, CSV file I/O (e.g. pd.read_csv)\n",
    "\n",
    "# Input data files are available in the read-only \"../input/\" directory\n",
    "# For example, running this (by clicking run or pressing Shift+Enter) will list all files under the input directory\n",
    "\n",
    "import os\n",
    "for dirname, _, filenames in os.walk('/kaggle/input'):\n",
    "    for filename in filenames:\n",
    "        print(os.path.join(dirname, filename))\n",
    "\n",
    "# You can write up to 20GB to the current directory (/kaggle/working/) that gets preserved as output when you create a version using \"Save & Run All\" \n",
    "# You can also write temporary files to /kaggle/temp/, but they won't be saved outside of the current session"
   ]
  },
  {
   "cell_type": "code",
   "execution_count": 2,
   "id": "b5fe6a67",
   "metadata": {
    "execution": {
     "iopub.execute_input": "2023-10-24T20:06:12.170296Z",
     "iopub.status.busy": "2023-10-24T20:06:12.169384Z",
     "iopub.status.idle": "2023-10-24T20:06:20.246925Z",
     "shell.execute_reply": "2023-10-24T20:06:20.246128Z"
    },
    "papermill": {
     "duration": 8.088089,
     "end_time": "2023-10-24T20:06:20.249302",
     "exception": false,
     "start_time": "2023-10-24T20:06:12.161213",
     "status": "completed"
    },
    "tags": []
   },
   "outputs": [
    {
     "name": "stderr",
     "output_type": "stream",
     "text": [
      "/opt/conda/lib/python3.10/site-packages/scipy/__init__.py:146: UserWarning: A NumPy version >=1.16.5 and <1.23.0 is required for this version of SciPy (detected version 1.23.5\n",
      "  warnings.warn(f\"A NumPy version >={np_minversion} and <{np_maxversion}\"\n"
     ]
    }
   ],
   "source": [
    "import pandas as pd\n",
    "import numpy as np\n",
    "import matplotlib.pyplot as plt\n",
    "import seaborn as sns\n",
    "import tensorflow as tf"
   ]
  },
  {
   "cell_type": "markdown",
   "id": "27044fdb",
   "metadata": {
    "papermill": {
     "duration": 0.006913,
     "end_time": "2023-10-24T20:06:20.263768",
     "exception": false,
     "start_time": "2023-10-24T20:06:20.256855",
     "status": "completed"
    },
    "tags": []
   },
   "source": [
    "# **Split the Dataset**"
   ]
  },
  {
   "cell_type": "code",
   "execution_count": 3,
   "id": "5c1c0982",
   "metadata": {
    "execution": {
     "iopub.execute_input": "2023-10-24T20:06:20.279790Z",
     "iopub.status.busy": "2023-10-24T20:06:20.278721Z",
     "iopub.status.idle": "2023-10-24T20:06:26.001956Z",
     "shell.execute_reply": "2023-10-24T20:06:26.000901Z"
    },
    "papermill": {
     "duration": 5.733741,
     "end_time": "2023-10-24T20:06:26.004442",
     "exception": false,
     "start_time": "2023-10-24T20:06:20.270701",
     "status": "completed"
    },
    "tags": []
   },
   "outputs": [],
   "source": [
    "# create train df m\n",
    "df_train = pd.read_csv('/kaggle/input/digit-recognizer/train.csv')\n",
    "df_test = pd.read_csv('/kaggle/input/digit-recognizer/test.csv')"
   ]
  },
  {
   "cell_type": "code",
   "execution_count": 4,
   "id": "7071fbde",
   "metadata": {
    "execution": {
     "iopub.execute_input": "2023-10-24T20:06:26.020318Z",
     "iopub.status.busy": "2023-10-24T20:06:26.020023Z",
     "iopub.status.idle": "2023-10-24T20:06:26.044334Z",
     "shell.execute_reply": "2023-10-24T20:06:26.043472Z"
    },
    "papermill": {
     "duration": 0.034323,
     "end_time": "2023-10-24T20:06:26.046252",
     "exception": false,
     "start_time": "2023-10-24T20:06:26.011929",
     "status": "completed"
    },
    "tags": []
   },
   "outputs": [
    {
     "data": {
      "text/html": [
       "<div>\n",
       "<style scoped>\n",
       "    .dataframe tbody tr th:only-of-type {\n",
       "        vertical-align: middle;\n",
       "    }\n",
       "\n",
       "    .dataframe tbody tr th {\n",
       "        vertical-align: top;\n",
       "    }\n",
       "\n",
       "    .dataframe thead th {\n",
       "        text-align: right;\n",
       "    }\n",
       "</style>\n",
       "<table border=\"1\" class=\"dataframe\">\n",
       "  <thead>\n",
       "    <tr style=\"text-align: right;\">\n",
       "      <th></th>\n",
       "      <th>label</th>\n",
       "      <th>pixel0</th>\n",
       "      <th>pixel1</th>\n",
       "      <th>pixel2</th>\n",
       "      <th>pixel3</th>\n",
       "      <th>pixel4</th>\n",
       "      <th>pixel5</th>\n",
       "      <th>pixel6</th>\n",
       "      <th>pixel7</th>\n",
       "      <th>pixel8</th>\n",
       "      <th>...</th>\n",
       "      <th>pixel774</th>\n",
       "      <th>pixel775</th>\n",
       "      <th>pixel776</th>\n",
       "      <th>pixel777</th>\n",
       "      <th>pixel778</th>\n",
       "      <th>pixel779</th>\n",
       "      <th>pixel780</th>\n",
       "      <th>pixel781</th>\n",
       "      <th>pixel782</th>\n",
       "      <th>pixel783</th>\n",
       "    </tr>\n",
       "  </thead>\n",
       "  <tbody>\n",
       "    <tr>\n",
       "      <th>0</th>\n",
       "      <td>1</td>\n",
       "      <td>0</td>\n",
       "      <td>0</td>\n",
       "      <td>0</td>\n",
       "      <td>0</td>\n",
       "      <td>0</td>\n",
       "      <td>0</td>\n",
       "      <td>0</td>\n",
       "      <td>0</td>\n",
       "      <td>0</td>\n",
       "      <td>...</td>\n",
       "      <td>0</td>\n",
       "      <td>0</td>\n",
       "      <td>0</td>\n",
       "      <td>0</td>\n",
       "      <td>0</td>\n",
       "      <td>0</td>\n",
       "      <td>0</td>\n",
       "      <td>0</td>\n",
       "      <td>0</td>\n",
       "      <td>0</td>\n",
       "    </tr>\n",
       "    <tr>\n",
       "      <th>1</th>\n",
       "      <td>0</td>\n",
       "      <td>0</td>\n",
       "      <td>0</td>\n",
       "      <td>0</td>\n",
       "      <td>0</td>\n",
       "      <td>0</td>\n",
       "      <td>0</td>\n",
       "      <td>0</td>\n",
       "      <td>0</td>\n",
       "      <td>0</td>\n",
       "      <td>...</td>\n",
       "      <td>0</td>\n",
       "      <td>0</td>\n",
       "      <td>0</td>\n",
       "      <td>0</td>\n",
       "      <td>0</td>\n",
       "      <td>0</td>\n",
       "      <td>0</td>\n",
       "      <td>0</td>\n",
       "      <td>0</td>\n",
       "      <td>0</td>\n",
       "    </tr>\n",
       "    <tr>\n",
       "      <th>2</th>\n",
       "      <td>1</td>\n",
       "      <td>0</td>\n",
       "      <td>0</td>\n",
       "      <td>0</td>\n",
       "      <td>0</td>\n",
       "      <td>0</td>\n",
       "      <td>0</td>\n",
       "      <td>0</td>\n",
       "      <td>0</td>\n",
       "      <td>0</td>\n",
       "      <td>...</td>\n",
       "      <td>0</td>\n",
       "      <td>0</td>\n",
       "      <td>0</td>\n",
       "      <td>0</td>\n",
       "      <td>0</td>\n",
       "      <td>0</td>\n",
       "      <td>0</td>\n",
       "      <td>0</td>\n",
       "      <td>0</td>\n",
       "      <td>0</td>\n",
       "    </tr>\n",
       "    <tr>\n",
       "      <th>3</th>\n",
       "      <td>4</td>\n",
       "      <td>0</td>\n",
       "      <td>0</td>\n",
       "      <td>0</td>\n",
       "      <td>0</td>\n",
       "      <td>0</td>\n",
       "      <td>0</td>\n",
       "      <td>0</td>\n",
       "      <td>0</td>\n",
       "      <td>0</td>\n",
       "      <td>...</td>\n",
       "      <td>0</td>\n",
       "      <td>0</td>\n",
       "      <td>0</td>\n",
       "      <td>0</td>\n",
       "      <td>0</td>\n",
       "      <td>0</td>\n",
       "      <td>0</td>\n",
       "      <td>0</td>\n",
       "      <td>0</td>\n",
       "      <td>0</td>\n",
       "    </tr>\n",
       "    <tr>\n",
       "      <th>4</th>\n",
       "      <td>0</td>\n",
       "      <td>0</td>\n",
       "      <td>0</td>\n",
       "      <td>0</td>\n",
       "      <td>0</td>\n",
       "      <td>0</td>\n",
       "      <td>0</td>\n",
       "      <td>0</td>\n",
       "      <td>0</td>\n",
       "      <td>0</td>\n",
       "      <td>...</td>\n",
       "      <td>0</td>\n",
       "      <td>0</td>\n",
       "      <td>0</td>\n",
       "      <td>0</td>\n",
       "      <td>0</td>\n",
       "      <td>0</td>\n",
       "      <td>0</td>\n",
       "      <td>0</td>\n",
       "      <td>0</td>\n",
       "      <td>0</td>\n",
       "    </tr>\n",
       "  </tbody>\n",
       "</table>\n",
       "<p>5 rows × 785 columns</p>\n",
       "</div>"
      ],
      "text/plain": [
       "   label  pixel0  pixel1  pixel2  pixel3  pixel4  pixel5  pixel6  pixel7  \\\n",
       "0      1       0       0       0       0       0       0       0       0   \n",
       "1      0       0       0       0       0       0       0       0       0   \n",
       "2      1       0       0       0       0       0       0       0       0   \n",
       "3      4       0       0       0       0       0       0       0       0   \n",
       "4      0       0       0       0       0       0       0       0       0   \n",
       "\n",
       "   pixel8  ...  pixel774  pixel775  pixel776  pixel777  pixel778  pixel779  \\\n",
       "0       0  ...         0         0         0         0         0         0   \n",
       "1       0  ...         0         0         0         0         0         0   \n",
       "2       0  ...         0         0         0         0         0         0   \n",
       "3       0  ...         0         0         0         0         0         0   \n",
       "4       0  ...         0         0         0         0         0         0   \n",
       "\n",
       "   pixel780  pixel781  pixel782  pixel783  \n",
       "0         0         0         0         0  \n",
       "1         0         0         0         0  \n",
       "2         0         0         0         0  \n",
       "3         0         0         0         0  \n",
       "4         0         0         0         0  \n",
       "\n",
       "[5 rows x 785 columns]"
      ]
     },
     "execution_count": 4,
     "metadata": {},
     "output_type": "execute_result"
    }
   ],
   "source": [
    "df_train.head()"
   ]
  },
  {
   "cell_type": "code",
   "execution_count": 5,
   "id": "e8e82b72",
   "metadata": {
    "execution": {
     "iopub.execute_input": "2023-10-24T20:06:26.063429Z",
     "iopub.status.busy": "2023-10-24T20:06:26.063122Z",
     "iopub.status.idle": "2023-10-24T20:06:26.284366Z",
     "shell.execute_reply": "2023-10-24T20:06:26.283199Z"
    },
    "papermill": {
     "duration": 0.231823,
     "end_time": "2023-10-24T20:06:26.286470",
     "exception": false,
     "start_time": "2023-10-24T20:06:26.054647",
     "status": "completed"
    },
    "tags": []
   },
   "outputs": [
    {
     "name": "stdout",
     "output_type": "stream",
     "text": [
      "<class 'pandas.core.frame.DataFrame'>\n",
      "RangeIndex: 42000 entries, 0 to 41999\n",
      "Columns: 785 entries, label to pixel783\n",
      "dtypes: int64(785)\n",
      "memory usage: 251.5 MB\n"
     ]
    }
   ],
   "source": [
    "df_train.info()"
   ]
  },
  {
   "cell_type": "markdown",
   "id": "fd9ab62d",
   "metadata": {
    "papermill": {
     "duration": 0.007425,
     "end_time": "2023-10-24T20:06:26.301578",
     "exception": false,
     "start_time": "2023-10-24T20:06:26.294153",
     "status": "completed"
    },
    "tags": []
   },
   "source": [
    "# **Let's Build the Model**"
   ]
  },
  {
   "cell_type": "code",
   "execution_count": 6,
   "id": "a91423b9",
   "metadata": {
    "execution": {
     "iopub.execute_input": "2023-10-24T20:06:26.317859Z",
     "iopub.status.busy": "2023-10-24T20:06:26.317573Z",
     "iopub.status.idle": "2023-10-24T20:06:26.807918Z",
     "shell.execute_reply": "2023-10-24T20:06:26.807103Z"
    },
    "papermill": {
     "duration": 0.501118,
     "end_time": "2023-10-24T20:06:26.810200",
     "exception": false,
     "start_time": "2023-10-24T20:06:26.309082",
     "status": "completed"
    },
    "tags": []
   },
   "outputs": [],
   "source": [
    "from sklearn.model_selection import train_test_split\n",
    "X = df_train.drop('label', axis=1)\n",
    "y = df_train['label']\n",
    "\n",
    "X_train, X_val, y_train, y_val = train_test_split(X, y, test_size=0.3, random_state=4242)"
   ]
  },
  {
   "cell_type": "code",
   "execution_count": 7,
   "id": "5f627f01",
   "metadata": {
    "execution": {
     "iopub.execute_input": "2023-10-24T20:06:26.826930Z",
     "iopub.status.busy": "2023-10-24T20:06:26.826645Z",
     "iopub.status.idle": "2023-10-24T20:06:27.569440Z",
     "shell.execute_reply": "2023-10-24T20:06:27.568205Z"
    },
    "papermill": {
     "duration": 0.752879,
     "end_time": "2023-10-24T20:06:27.570941",
     "exception": true,
     "start_time": "2023-10-24T20:06:26.818062",
     "status": "failed"
    },
    "tags": []
   },
   "outputs": [
    {
     "ename": "NameError",
     "evalue": "name 'test' is not defined",
     "output_type": "error",
     "traceback": [
      "\u001b[0;31m---------------------------------------------------------------------------\u001b[0m",
      "\u001b[0;31mNameError\u001b[0m                                 Traceback (most recent call last)",
      "Cell \u001b[0;32mIn[7], line 4\u001b[0m\n\u001b[1;32m      2\u001b[0m X_train \u001b[38;5;241m=\u001b[39m X_train\u001b[38;5;241m.\u001b[39mvalues\u001b[38;5;241m.\u001b[39mreshape(\u001b[38;5;241m-\u001b[39m\u001b[38;5;241m1\u001b[39m, \u001b[38;5;241m28\u001b[39m, \u001b[38;5;241m28\u001b[39m, \u001b[38;5;241m1\u001b[39m)\n\u001b[1;32m      3\u001b[0m X_val \u001b[38;5;241m=\u001b[39m X_val\u001b[38;5;241m.\u001b[39mvalues\u001b[38;5;241m.\u001b[39mreshape(\u001b[38;5;241m-\u001b[39m\u001b[38;5;241m1\u001b[39m, \u001b[38;5;241m28\u001b[39m, \u001b[38;5;241m28\u001b[39m, \u001b[38;5;241m1\u001b[39m)\n\u001b[0;32m----> 4\u001b[0m X_test \u001b[38;5;241m=\u001b[39m \u001b[43mtest\u001b[49m\u001b[38;5;241m.\u001b[39mvalues\u001b[38;5;241m.\u001b[39mreshape(\u001b[38;5;241m-\u001b[39m\u001b[38;5;241m1\u001b[39m, \u001b[38;5;241m28\u001b[39m, \u001b[38;5;241m28\u001b[39m, \u001b[38;5;241m1\u001b[39m)\n\u001b[1;32m      5\u001b[0m y_val \u001b[38;5;241m=\u001b[39m y_val\u001b[38;5;241m.\u001b[39mvalues\u001b[38;5;241m.\u001b[39mreshape(\u001b[38;5;241m-\u001b[39m\u001b[38;5;241m1\u001b[39m, \u001b[38;5;241m1\u001b[39m)\n\u001b[1;32m      6\u001b[0m y_train \u001b[38;5;241m=\u001b[39m y_train\u001b[38;5;241m.\u001b[39mvalues\u001b[38;5;241m.\u001b[39mreshape(\u001b[38;5;241m-\u001b[39m\u001b[38;5;241m1\u001b[39m, \u001b[38;5;241m1\u001b[39m)\n",
      "\u001b[0;31mNameError\u001b[0m: name 'test' is not defined"
     ]
    }
   ],
   "source": [
    "# reshape the data\n",
    "X_train = X_train.values.reshape(-1, 28, 28, 1)\n",
    "X_val = X_val.values.reshape(-1, 28, 28, 1)\n",
    "X_test = test.values.reshape(-1, 28, 28, 1)\n",
    "y_val = y_val.values.reshape(-1, 1)\n",
    "y_train = y_train.values.reshape(-1, 1)"
   ]
  },
  {
   "cell_type": "markdown",
   "id": "dcf57eea",
   "metadata": {
    "papermill": {
     "duration": null,
     "end_time": null,
     "exception": null,
     "start_time": null,
     "status": "pending"
    },
    "tags": []
   },
   "source": [
    "# **Using One Hot Encoding**"
   ]
  },
  {
   "cell_type": "code",
   "execution_count": null,
   "id": "76acae77",
   "metadata": {
    "execution": {
     "iopub.execute_input": "2023-10-24T19:19:20.224704Z",
     "iopub.status.busy": "2023-10-24T19:19:20.223991Z",
     "iopub.status.idle": "2023-10-24T19:19:20.239730Z",
     "shell.execute_reply": "2023-10-24T19:19:20.238638Z",
     "shell.execute_reply.started": "2023-10-24T19:19:20.224671Z"
    },
    "papermill": {
     "duration": null,
     "end_time": null,
     "exception": null,
     "start_time": null,
     "status": "pending"
    },
    "tags": []
   },
   "outputs": [],
   "source": [
    "from sklearn.preprocessing import OneHotEncoder\n",
    "enc = OneHotEncoder()\n",
    "y_train = enc.fit_transform(y_train).toarray()\n",
    "y_val = enc.fit_transform(y_val).toarray()"
   ]
  },
  {
   "cell_type": "code",
   "execution_count": null,
   "id": "8dcb8e3f",
   "metadata": {
    "execution": {
     "iopub.execute_input": "2023-10-24T19:19:33.587615Z",
     "iopub.status.busy": "2023-10-24T19:19:33.586887Z",
     "iopub.status.idle": "2023-10-24T19:19:33.594413Z",
     "shell.execute_reply": "2023-10-24T19:19:33.593096Z",
     "shell.execute_reply.started": "2023-10-24T19:19:33.587551Z"
    },
    "papermill": {
     "duration": null,
     "end_time": null,
     "exception": null,
     "start_time": null,
     "status": "pending"
    },
    "tags": []
   },
   "outputs": [],
   "source": [
    "from tensorflow.keras.preprocessing.image import ImageDataGenerator\n",
    "datagen = ImageDataGenerator(\n",
    "    rotation_range=10,\n",
    "    zoom_range=0.1,\n",
    "    width_shift_range=0.1,\n",
    "    height_shift_range=0.1\n",
    ")"
   ]
  },
  {
   "cell_type": "code",
   "execution_count": null,
   "id": "00d7c325",
   "metadata": {
    "execution": {
     "iopub.execute_input": "2023-10-24T19:19:43.559697Z",
     "iopub.status.busy": "2023-10-24T19:19:43.559294Z",
     "iopub.status.idle": "2023-10-24T19:19:44.729445Z",
     "shell.execute_reply": "2023-10-24T19:19:44.728519Z",
     "shell.execute_reply.started": "2023-10-24T19:19:43.559667Z"
    },
    "papermill": {
     "duration": null,
     "end_time": null,
     "exception": null,
     "start_time": null,
     "status": "pending"
    },
    "tags": []
   },
   "outputs": [],
   "source": [
    "plt.figure(figsize=(8, 8))\n",
    "for X_batch, y_batch in datagen.flow(X_train, y_train, batch_size=9):\n",
    "    for i in range(0, 9):\n",
    "        plt.subplot(330 + 1 + i)\n",
    "        plt.imshow(X_batch[i].reshape(28, 28), cmap=plt.get_cmap('gray'))\n",
    "    plt.show()\n",
    "    break"
   ]
  },
  {
   "cell_type": "code",
   "execution_count": null,
   "id": "da5fcb6a",
   "metadata": {
    "execution": {
     "iopub.execute_input": "2023-10-24T19:48:32.715319Z",
     "iopub.status.busy": "2023-10-24T19:48:32.714437Z",
     "iopub.status.idle": "2023-10-24T19:48:32.814016Z",
     "shell.execute_reply": "2023-10-24T19:48:32.813191Z",
     "shell.execute_reply.started": "2023-10-24T19:48:32.715289Z"
    },
    "papermill": {
     "duration": null,
     "end_time": null,
     "exception": null,
     "start_time": null,
     "status": "pending"
    },
    "tags": []
   },
   "outputs": [],
   "source": [
    "from tensorflow.keras.models import Sequential\n",
    "from tensorflow.keras.layers import Dense, Conv2D, MaxPooling2D, Flatten, Dropout\n",
    "\n",
    "model = Sequential()\n",
    "model.add(Conv2D(32, (3, 3), activation='relu', input_shape=(28, 28, 1)))\n",
    "model.add(Conv2D(32, (3, 3), activation='relu'))\n",
    "model.add(MaxPooling2D())\n",
    "model.add(Dropout(0.2))\n",
    "model.add(Conv2D(64, (3, 3), activation='relu'))\n",
    "model.add(Conv2D(64, (3, 3), activation='relu'))\n",
    "model.add(MaxPooling2D())\n",
    "model.add(Dropout(0.2))\n",
    "model.add(Flatten())\n",
    "model.add(Dense(128, activation='relu'))\n",
    "model.add(Dense(10, activation='softmax'))"
   ]
  },
  {
   "cell_type": "code",
   "execution_count": null,
   "id": "596ebd79",
   "metadata": {
    "execution": {
     "iopub.execute_input": "2023-10-24T19:48:33.604117Z",
     "iopub.status.busy": "2023-10-24T19:48:33.603785Z",
     "iopub.status.idle": "2023-10-24T19:48:33.635876Z",
     "shell.execute_reply": "2023-10-24T19:48:33.634785Z",
     "shell.execute_reply.started": "2023-10-24T19:48:33.604091Z"
    },
    "papermill": {
     "duration": null,
     "end_time": null,
     "exception": null,
     "start_time": null,
     "status": "pending"
    },
    "tags": []
   },
   "outputs": [],
   "source": [
    "model.summary()"
   ]
  },
  {
   "cell_type": "code",
   "execution_count": null,
   "id": "19aca3ac",
   "metadata": {
    "execution": {
     "iopub.execute_input": "2023-10-24T19:48:34.728060Z",
     "iopub.status.busy": "2023-10-24T19:48:34.727707Z",
     "iopub.status.idle": "2023-10-24T19:48:34.740845Z",
     "shell.execute_reply": "2023-10-24T19:48:34.739722Z",
     "shell.execute_reply.started": "2023-10-24T19:48:34.728034Z"
    },
    "papermill": {
     "duration": null,
     "end_time": null,
     "exception": null,
     "start_time": null,
     "status": "pending"
    },
    "tags": []
   },
   "outputs": [],
   "source": [
    "model.compile(optimizer='adam', loss='categorical_crossentropy', metrics=['accuracy'])"
   ]
  },
  {
   "cell_type": "code",
   "execution_count": null,
   "id": "52e7ecda",
   "metadata": {
    "execution": {
     "iopub.execute_input": "2023-10-24T19:48:36.055919Z",
     "iopub.status.busy": "2023-10-24T19:48:36.055543Z",
     "iopub.status.idle": "2023-10-24T19:51:59.618208Z",
     "shell.execute_reply": "2023-10-24T19:51:59.617376Z",
     "shell.execute_reply.started": "2023-10-24T19:48:36.055889Z"
    },
    "papermill": {
     "duration": null,
     "end_time": null,
     "exception": null,
     "start_time": null,
     "status": "pending"
    },
    "tags": []
   },
   "outputs": [],
   "source": [
    "# train the model\n",
    "history = model.fit_generator(datagen.flow(X_train, y_train, batch_size=128), epochs=20, validation_data=(X_val, y_val))"
   ]
  },
  {
   "cell_type": "code",
   "execution_count": null,
   "id": "fd4c19d2",
   "metadata": {
    "execution": {
     "iopub.execute_input": "2023-10-24T19:52:45.421473Z",
     "iopub.status.busy": "2023-10-24T19:52:45.421103Z",
     "iopub.status.idle": "2023-10-24T19:52:45.739282Z",
     "shell.execute_reply": "2023-10-24T19:52:45.738146Z",
     "shell.execute_reply.started": "2023-10-24T19:52:45.421437Z"
    },
    "papermill": {
     "duration": null,
     "end_time": null,
     "exception": null,
     "start_time": null,
     "status": "pending"
    },
    "tags": []
   },
   "outputs": [],
   "source": [
    "# graph the training and validation loss\n",
    "plt.figure(figsize=(12, 8))\n",
    "plt.plot(history.history['loss'], label='Training Loss')\n",
    "plt.plot(history.history['val_loss'], label='Validation Loss')\n",
    "plt.legend()\n",
    "plt.show()"
   ]
  },
  {
   "cell_type": "code",
   "execution_count": null,
   "id": "e3ed3cc7",
   "metadata": {
    "execution": {
     "iopub.execute_input": "2023-10-24T19:53:02.295397Z",
     "iopub.status.busy": "2023-10-24T19:53:02.294676Z",
     "iopub.status.idle": "2023-10-24T19:53:02.547293Z",
     "shell.execute_reply": "2023-10-24T19:53:02.546350Z",
     "shell.execute_reply.started": "2023-10-24T19:53:02.295369Z"
    },
    "papermill": {
     "duration": null,
     "end_time": null,
     "exception": null,
     "start_time": null,
     "status": "pending"
    },
    "tags": []
   },
   "outputs": [],
   "source": [
    "# plot the accuracy\n",
    "plt.figure(figsize=(12, 8))\n",
    "plt.plot(history.history['accuracy'], label='Training Accuracy')\n",
    "plt.plot(history.history['val_accuracy'], label='Validation Accuracy')\n",
    "plt.legend()\n",
    "plt.show()"
   ]
  },
  {
   "cell_type": "code",
   "execution_count": null,
   "id": "c5b43d97",
   "metadata": {
    "execution": {
     "iopub.execute_input": "2023-10-24T19:53:15.872414Z",
     "iopub.status.busy": "2023-10-24T19:53:15.872049Z",
     "iopub.status.idle": "2023-10-24T19:53:16.011733Z",
     "shell.execute_reply": "2023-10-24T19:53:16.010903Z",
     "shell.execute_reply.started": "2023-10-24T19:53:15.872384Z"
    },
    "papermill": {
     "duration": null,
     "end_time": null,
     "exception": null,
     "start_time": null,
     "status": "pending"
    },
    "tags": []
   },
   "outputs": [],
   "source": [
    "# CNN model with batch normalization\n",
    "bn_model = Sequential()\n",
    "bn_model.add(Conv2D(32, (3, 3), activation='relu', input_shape=(28, 28, 1)))\n",
    "bn_model.add(Conv2D(32, (3, 3), activation='relu'))\n",
    "bn_model.add(MaxPooling2D())\n",
    "bn_model.add(tf.keras.layers.BatchNormalization())\n",
    "bn_model.add(Dropout(0.2))\n",
    "bn_model.add(Conv2D(64, (3, 3), activation='relu'))\n",
    "bn_model.add(Conv2D(64, (3, 3), activation='relu'))\n",
    "bn_model.add(MaxPooling2D())\n",
    "bn_model.add(tf.keras.layers.BatchNormalization())\n",
    "bn_model.add(Dropout(0.2))\n",
    "bn_model.add(Flatten())\n",
    "bn_model.add(Dense(128, activation='relu'))\n",
    "bn_model.add(tf.keras.layers.BatchNormalization())\n",
    "bn_model.add(Dense(10, activation='softmax'))"
   ]
  },
  {
   "cell_type": "code",
   "execution_count": null,
   "id": "adcf6019",
   "metadata": {
    "execution": {
     "iopub.execute_input": "2023-10-24T19:53:25.857472Z",
     "iopub.status.busy": "2023-10-24T19:53:25.857116Z",
     "iopub.status.idle": "2023-10-24T19:59:01.049924Z",
     "shell.execute_reply": "2023-10-24T19:59:01.049101Z",
     "shell.execute_reply.started": "2023-10-24T19:53:25.857442Z"
    },
    "papermill": {
     "duration": null,
     "end_time": null,
     "exception": null,
     "start_time": null,
     "status": "pending"
    },
    "tags": []
   },
   "outputs": [],
   "source": [
    "# fit the model\n",
    "bn_model.compile(optimizer='adam', loss='categorical_crossentropy', metrics=['accuracy'])\n",
    "bn_history = bn_model.fit_generator(datagen.flow(X_train, y_train, batch_size=64), epochs=30, validation_data=(X_val, y_val))"
   ]
  },
  {
   "cell_type": "code",
   "execution_count": null,
   "id": "e78b413f",
   "metadata": {
    "execution": {
     "iopub.execute_input": "2023-10-24T19:59:58.320233Z",
     "iopub.status.busy": "2023-10-24T19:59:58.319591Z",
     "iopub.status.idle": "2023-10-24T20:00:00.199840Z",
     "shell.execute_reply": "2023-10-24T20:00:00.198917Z",
     "shell.execute_reply.started": "2023-10-24T19:59:58.320200Z"
    },
    "papermill": {
     "duration": null,
     "end_time": null,
     "exception": null,
     "start_time": null,
     "status": "pending"
    },
    "tags": []
   },
   "outputs": [],
   "source": [
    "# print the confusion matrix\n",
    "from sklearn.metrics import confusion_matrix\n",
    "y_pred = bn_model.predict(X_val)\n",
    "y_pred = np.argmax(y_pred, axis=1)\n",
    "y_true = np.argmax(y_val, axis=1)\n",
    "cm = confusion_matrix(y_true, y_pred)\n",
    "\n",
    "plt.figure(figsize=(12, 8))\n",
    "sns.heatmap(cm, annot=True, fmt='d')\n",
    "# axis labels\n",
    "plt.xlabel('Predicted')\n",
    "plt.ylabel('True')\n",
    "plt.show()"
   ]
  },
  {
   "cell_type": "code",
   "execution_count": null,
   "id": "f9f338cf",
   "metadata": {
    "execution": {
     "iopub.execute_input": "2023-10-24T20:00:15.212145Z",
     "iopub.status.busy": "2023-10-24T20:00:15.211774Z",
     "iopub.status.idle": "2023-10-24T20:00:19.394400Z",
     "shell.execute_reply": "2023-10-24T20:00:19.393439Z",
     "shell.execute_reply.started": "2023-10-24T20:00:15.212117Z"
    },
    "papermill": {
     "duration": null,
     "end_time": null,
     "exception": null,
     "start_time": null,
     "status": "pending"
    },
    "tags": []
   },
   "outputs": [],
   "source": [
    "# Load and preprocess test data\n",
    "test_data = pd.read_csv('/kaggle/input/digit-recognizer/test.csv')\n",
    "test_data = test_data.values.reshape(-1, 28, 28, 1)\n",
    "test_data = test_data / 255.0\n",
    "\n",
    "# Make predictions\n",
    "predictions = model.predict(test_data)\n",
    "resized_predictions = predictions.argmax(axis=1).reshape(-1, 1)"
   ]
  },
  {
   "cell_type": "code",
   "execution_count": null,
   "id": "8bcc66a0",
   "metadata": {
    "execution": {
     "iopub.execute_input": "2023-10-24T20:01:05.643901Z",
     "iopub.status.busy": "2023-10-24T20:01:05.643498Z",
     "iopub.status.idle": "2023-10-24T20:01:05.707974Z",
     "shell.execute_reply": "2023-10-24T20:01:05.707163Z",
     "shell.execute_reply.started": "2023-10-24T20:01:05.643872Z"
    },
    "papermill": {
     "duration": null,
     "end_time": null,
     "exception": null,
     "start_time": null,
     "status": "pending"
    },
    "tags": []
   },
   "outputs": [],
   "source": [
    "# Assuming resized_predictions is a 2D NumPy array\n",
    "flat_predictions = resized_predictions.flatten()  # Flatten to a 1D array\n",
    "\n",
    "# Create a submission DataFrame\n",
    "submission = pd.DataFrame({'ImageId': range(1, len(test_data) + 1), 'Label': flat_predictions})\n",
    "\n",
    "# Save the submission to a CSV file\n",
    "submission.to_csv('test.csv', index=False)"
   ]
  },
  {
   "cell_type": "code",
   "execution_count": null,
   "id": "4ee783f1",
   "metadata": {
    "execution": {
     "iopub.execute_input": "2023-10-24T20:01:22.530354Z",
     "iopub.status.busy": "2023-10-24T20:01:22.530002Z",
     "iopub.status.idle": "2023-10-24T20:01:22.584438Z",
     "shell.execute_reply": "2023-10-24T20:01:22.583428Z",
     "shell.execute_reply.started": "2023-10-24T20:01:22.530326Z"
    },
    "papermill": {
     "duration": null,
     "end_time": null,
     "exception": null,
     "start_time": null,
     "status": "pending"
    },
    "tags": []
   },
   "outputs": [],
   "source": [
    "model.save('model.h5')"
   ]
  },
  {
   "cell_type": "code",
   "execution_count": null,
   "id": "cb731346",
   "metadata": {
    "papermill": {
     "duration": null,
     "end_time": null,
     "exception": null,
     "start_time": null,
     "status": "pending"
    },
    "tags": []
   },
   "outputs": [],
   "source": []
  }
 ],
 "metadata": {
  "kernelspec": {
   "display_name": "Python 3",
   "language": "python",
   "name": "python3"
  },
  "language_info": {
   "codemirror_mode": {
    "name": "ipython",
    "version": 3
   },
   "file_extension": ".py",
   "mimetype": "text/x-python",
   "name": "python",
   "nbconvert_exporter": "python",
   "pygments_lexer": "ipython3",
   "version": "3.10.12"
  },
  "papermill": {
   "default_parameters": {},
   "duration": 21.46109,
   "end_time": "2023-10-24T20:06:29.301748",
   "environment_variables": {},
   "exception": true,
   "input_path": "__notebook__.ipynb",
   "output_path": "__notebook__.ipynb",
   "parameters": {},
   "start_time": "2023-10-24T20:06:07.840658",
   "version": "2.4.0"
  }
 },
 "nbformat": 4,
 "nbformat_minor": 5
}
